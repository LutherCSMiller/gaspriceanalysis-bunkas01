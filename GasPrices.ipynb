{
 "cells": [
  {
   "cell_type": "code",
   "execution_count": 2,
   "metadata": {
    "collapsed": true
   },
   "outputs": [],
   "source": [
    "from bs4 import BeautifulSoup\n",
    "import requests\n",
    "import re"
   ]
  },
  {
   "cell_type": "markdown",
   "metadata": {},
   "source": [
    "### Notes on gas prices\n",
    "\n",
    "1. Gather data for nominal price of gas standardize on yearly price\n",
    "1. cleaning and transforming\n",
    "1. adjust prices for inflation\n",
    "1. graph the nominal and real prices\n",
    "5. choose some other item with historical prices to compare to gas"
   ]
  },
  {
   "cell_type": "code",
   "execution_count": 3,
   "metadata": {
    "collapsed": false
   },
   "outputs": [
    {
     "name": "stderr",
     "output_type": "stream",
     "text": [
      "/usr/local/lib/python3.5/site-packages/bs4/__init__.py:166: UserWarning: No parser was explicitly specified, so I'm using the best available HTML parser for this system (\"lxml\"). This usually isn't a problem, but if you run this code on another system, or in a different virtual environment, it may use a different parser and behave differently.\n",
      "\n",
      "To get rid of this warning, change this:\n",
      "\n",
      " BeautifulSoup([your markup])\n",
      "\n",
      "to this:\n",
      "\n",
      " BeautifulSoup([your markup], \"lxml\")\n",
      "\n",
      "  markup_type=markup_type))\n"
     ]
    }
   ],
   "source": [
    "gaspage = requests.get(\"http://www.eia.gov/totalenergy/data/annual/showtext.cfm?t=ptb0524\")\n",
    "dataSoup = BeautifulSoup(gaspage.text)"
   ]
  },
  {
   "cell_type": "markdown",
   "metadata": {},
   "source": [
    "### Format of output:\n",
    "\n",
    "The result will be a dictionary with two keys **year** and **price**\n",
    "\n",
    "```\n",
    "{ 'year': [1949, 1950, ...], 'price': [.28, .32, ...]}\n",
    "```"
   ]
  },
  {
   "cell_type": "code",
   "execution_count": 20,
   "metadata": {
    "collapsed": false
   },
   "outputs": [
    {
     "name": "stdout",
     "output_type": "stream",
     "text": [
      "{'year': [1949, 1950, 1951, 1952, 1953, 1954, 1955, 1956, 1957, 1958, 1959, 1960, 1961, 1962, 1963, 1964, 1965, 1966, 1967, 1968, 1969, 1970, 1971, 1972, 1973, 1974, 1975, 1976, 1977, 1978, 1979, 1980, 1981, 1982, 1983, 1984, 1985, 1986, 1987, 1988, 1989, 1990, 1991, 1992, 1993, 1994, 1995, 1996, 1997, 1998, 1999, 2000, 2001, 2002, 2003, 2004, 2005, 2006, 2007, 2008, 2009, 2010, 2011], 'price': [0.268, 0.268, 0.272, 0.274, 0.287, 0.29, 0.291, 0.299, 0.31, 0.304, 0.305, 0.311, 0.308, 0.306, 0.304, 0.304, 0.312, 0.321, 0.332, 0.337, 0.348, 0.357, 0.364, 0.361, 0.388, 0.532, 0.567, 0.59, 0.622, 0.627, 0.857, 1.191, 1.311, 1.222, 1.158, 1.129, 1.115, 0.857, 0.897, 0.9, 0.997, 1.611, 1.524, 1.471, 1.415, 1.391, 1.406, 1.48, 1.458, 1.237, 1.342, 1.702, 1.61, 1.473, 1.69, 1.942, 2.295, 2.508, 2.637, 3.008, 2.142, 2.512, 3.111]}\n"
     ]
    }
   ],
   "source": [
    "non_decimal = re.compile(r'[^\\d.]+')\n",
    "yearlist = []\n",
    "pricelist = []\n",
    "gasrows = dataSoup.find_all('tr')\n",
    "\n",
    "for i in range(4, len(gasrows)):\n",
    "    crow = gasrows[i].find_all('td')\n",
    "    year = int(crow[0].text)\n",
    "    yearlist.append(year)\n",
    "    \n",
    "    if year < 1990:\n",
    "        price = float(non_decimal.sub('', crow[1].text))\n",
    "    elif year >= 1990:\n",
    "        price = float(non_decimal.sub('', crow[4].text))\n",
    "    pricelist.append(price)\n",
    "    \n",
    "    if year == 2011: break;\n",
    "    \n",
    "dataDict = {'year': yearlist, 'price': pricelist}\n",
    "print(dataDict)"
   ]
  },
  {
   "cell_type": "markdown",
   "metadata": {},
   "source": [
    "### Adding Real Prices\n",
    "\n",
    "1. Scrape headline CPI data from the internet\n",
    "2. Clean the CPI data, and add it to the data dictionary\n",
    "7. Use the CPI data and the nominal gas prices to calculate corresponding real prices"
   ]
  },
  {
   "cell_type": "code",
   "execution_count": 45,
   "metadata": {
    "collapsed": false
   },
   "outputs": [
    {
     "name": "stdout",
     "output_type": "stream",
     "text": [
      "{'cpi': [23.8, 24.1, 26.0, 26.5, 26.7, 26.9, 26.8, 27.2, 28.1, 28.9, 29.1, 29.6, 29.9, 30.2, 30.6, 31.0, 31.5, 32.4, 33.4, 34.8, 36.7, 38.8, 40.5, 41.8, 44.4, 49.3, 53.8, 56.9, 60.6, 65.2, 72.6, 82.4, 90.9, 96.5, 99.6, 103.9, 107.6, 109.6, 113.6, 118.3, 124.0, 130.7, 136.2, 140.3, 144.5, 148.2, 152.4, 156.9, 160.5, 163.0, 166.6, 172.2, 177.1, 179.88, 183.96, 188.9, 195.3, 201.6, 207.342, 215.303, 214.537, 218.056, 224.939], 'real price': [2.533, 2.501, 2.353, 2.326, 2.418, 2.425, 2.442, 2.473, 2.482, 2.366, 2.358, 2.363, 2.317, 2.279, 2.235, 2.206, 2.228, 2.229, 2.236, 2.178, 2.133, 2.07, 2.022, 1.943, 1.966, 2.427, 2.371, 2.332, 2.309, 2.163, 2.655, 3.251, 3.244, 2.848, 2.615, 2.444, 2.331, 1.759, 1.776, 1.711, 1.809, 2.773, 2.517, 2.358, 2.203, 2.111, 2.075, 2.122, 2.043, 1.707, 1.812, 2.223, 2.045, 1.842, 2.066, 2.313, 2.643, 2.798, 2.861, 3.143, 2.246, 2.591, 3.111], 'year': [1949, 1950, 1951, 1952, 1953, 1954, 1955, 1956, 1957, 1958, 1959, 1960, 1961, 1962, 1963, 1964, 1965, 1966, 1967, 1968, 1969, 1970, 1971, 1972, 1973, 1974, 1975, 1976, 1977, 1978, 1979, 1980, 1981, 1982, 1983, 1984, 1985, 1986, 1987, 1988, 1989, 1990, 1991, 1992, 1993, 1994, 1995, 1996, 1997, 1998, 1999, 2000, 2001, 2002, 2003, 2004, 2005, 2006, 2007, 2008, 2009, 2010, 2011], 'price': [0.268, 0.268, 0.272, 0.274, 0.287, 0.29, 0.291, 0.299, 0.31, 0.304, 0.305, 0.311, 0.308, 0.306, 0.304, 0.304, 0.312, 0.321, 0.332, 0.337, 0.348, 0.357, 0.364, 0.361, 0.388, 0.532, 0.567, 0.59, 0.622, 0.627, 0.857, 1.191, 1.311, 1.222, 1.158, 1.129, 1.115, 0.857, 0.897, 0.9, 0.997, 1.611, 1.524, 1.471, 1.415, 1.391, 1.406, 1.48, 1.458, 1.237, 1.342, 1.702, 1.61, 1.473, 1.69, 1.942, 2.295, 2.508, 2.637, 3.008, 2.142, 2.512, 3.111]}\n"
     ]
    },
    {
     "name": "stderr",
     "output_type": "stream",
     "text": [
      "/usr/local/lib/python3.5/site-packages/bs4/__init__.py:166: UserWarning: No parser was explicitly specified, so I'm using the best available HTML parser for this system (\"lxml\"). This usually isn't a problem, but if you run this code on another system, or in a different virtual environment, it may use a different parser and behave differently.\n",
      "\n",
      "To get rid of this warning, change this:\n",
      "\n",
      " BeautifulSoup([your markup])\n",
      "\n",
      "to this:\n",
      "\n",
      " BeautifulSoup([your markup], \"lxml\")\n",
      "\n",
      "  markup_type=markup_type))\n"
     ]
    }
   ],
   "source": [
    "cpipage = requests.get(\"http://inflationdata.com/Inflation/Consumer_Price_Index/HistoricalCPI.aspx?reloaded=true\")\n",
    "cpiSoup = BeautifulSoup(cpipage.text)\n",
    "cpirows = cpiSoup.find_all('tr')\n",
    "realPriceList = []\n",
    "cpiList = []\n",
    "\n",
    "for i in range(1, len(gasrows)):\n",
    "    crow = cpirows[i].find_all('td')\n",
    "    curYear = int(crow[0].text)\n",
    "    if curYear in dataDict['year']:\n",
    "        cpi = float(crow[13].text)\n",
    "        cpiList.insert(0, cpi)\n",
    "\n",
    "dataDict['cpi'] = cpiList\n",
    "nowcpi = cpiList[-1]\n",
    "for i in range(63):\n",
    "    oldcpi = cpiList[i]\n",
    "    oldprice = pricelist[i]\n",
    "    realprice = (nowcpi/oldcpi)*oldprice\n",
    "    realPriceList.append(round(realprice, 3))\n",
    "dataDict['real price'] = realPriceList\n",
    "\n",
    "print(dataDict)"
   ]
  },
  {
   "cell_type": "markdown",
   "metadata": {},
   "source": [
    "### Dataframes!\n",
    "\n",
    "9. Transform the dictionary of data into a pandas DataFrame\n",
    "4. Also, use matplotlib to make magical convenient plots"
   ]
  },
  {
   "cell_type": "code",
   "execution_count": 46,
   "metadata": {
    "collapsed": true
   },
   "outputs": [],
   "source": [
    "%matplotlib inline\n",
    "import matplotlib.pyplot as plt\n",
    "import pandas as pd"
   ]
  },
  {
   "cell_type": "code",
   "execution_count": 51,
   "metadata": {
    "collapsed": false
   },
   "outputs": [
    {
     "data": {
      "text/html": [
       "<div>\n",
       "<table border=\"1\" class=\"dataframe\">\n",
       "  <thead>\n",
       "    <tr style=\"text-align: right;\">\n",
       "      <th></th>\n",
       "      <th>cpi</th>\n",
       "      <th>price</th>\n",
       "      <th>real price</th>\n",
       "      <th>year</th>\n",
       "    </tr>\n",
       "  </thead>\n",
       "  <tbody>\n",
       "    <tr>\n",
       "      <th>0</th>\n",
       "      <td>23.8</td>\n",
       "      <td>0.268</td>\n",
       "      <td>2.533</td>\n",
       "      <td>1949</td>\n",
       "    </tr>\n",
       "    <tr>\n",
       "      <th>1</th>\n",
       "      <td>24.1</td>\n",
       "      <td>0.268</td>\n",
       "      <td>2.501</td>\n",
       "      <td>1950</td>\n",
       "    </tr>\n",
       "    <tr>\n",
       "      <th>2</th>\n",
       "      <td>26.0</td>\n",
       "      <td>0.272</td>\n",
       "      <td>2.353</td>\n",
       "      <td>1951</td>\n",
       "    </tr>\n",
       "    <tr>\n",
       "      <th>3</th>\n",
       "      <td>26.5</td>\n",
       "      <td>0.274</td>\n",
       "      <td>2.326</td>\n",
       "      <td>1952</td>\n",
       "    </tr>\n",
       "    <tr>\n",
       "      <th>4</th>\n",
       "      <td>26.7</td>\n",
       "      <td>0.287</td>\n",
       "      <td>2.418</td>\n",
       "      <td>1953</td>\n",
       "    </tr>\n",
       "  </tbody>\n",
       "</table>\n",
       "</div>"
      ],
      "text/plain": [
       "    cpi  price  real price  year\n",
       "0  23.8  0.268       2.533  1949\n",
       "1  24.1  0.268       2.501  1950\n",
       "2  26.0  0.272       2.353  1951\n",
       "3  26.5  0.274       2.326  1952\n",
       "4  26.7  0.287       2.418  1953"
      ]
     },
     "execution_count": 51,
     "metadata": {},
     "output_type": "execute_result"
    }
   ],
   "source": [
    "df = pd.DataFrame(dataDict)\n",
    "df.head()"
   ]
  },
  {
   "cell_type": "code",
   "execution_count": 52,
   "metadata": {
    "collapsed": true
   },
   "outputs": [],
   "source": [
    "df.to_excel('testing.xlsx')"
   ]
  },
  {
   "cell_type": "code",
   "execution_count": 36,
   "metadata": {
    "collapsed": false
   },
   "outputs": [
    {
     "data": {
      "text/plain": [
       "<matplotlib.axes._subplots.AxesSubplot at 0x7faf6387a278>"
      ]
     },
     "execution_count": 36,
     "metadata": {},
     "output_type": "execute_result"
    },
    {
     "data": {
      "image/png": "[encoded data removed]",
      "text/plain": [
       "<matplotlib.figure.Figure at 0x7faf6383f978>"
      ]
     },
     "metadata": {},
     "output_type": "display_data"
    }
   ],
   "source": [
    "df.plot(x='year', y='price', kind='scatter')"
   ]
  },
  {
   "cell_type": "code",
   "execution_count": 48,
   "metadata": {
    "collapsed": false
   },
   "outputs": [
    {
     "data": {
      "text/plain": [
       "<matplotlib.axes._subplots.AxesSubplot at 0x7faf94676a58>"
      ]
     },
     "execution_count": 48,
     "metadata": {},
     "output_type": "execute_result"
    },
    {
     "data": {
      "image/png": "[encoded data removed]",
      "text/plain": [
       "<matplotlib.figure.Figure at 0x7faf2d823b00>"
      ]
     },
     "metadata": {},
     "output_type": "display_data"
    }
   ],
   "source": [
    "df.plot(x='year', y='real price', kind='scatter')"
   ]
  },
  {
   "cell_type": "markdown",
   "metadata": {},
   "source": [
    "### Pandas and Excel\n",
    "\n",
    "pandas is capable of reading Excel files, and turning them into data frames."
   ]
  },
  {
   "cell_type": "code",
   "execution_count": 49,
   "metadata": {
    "collapsed": false
   },
   "outputs": [
    {
     "data": {
      "text/html": [
       "<div>\n",
       "<table border=\"1\" class=\"dataframe\">\n",
       "  <thead>\n",
       "    <tr style=\"text-align: right;\">\n",
       "      <th></th>\n",
       "      <th>Jan</th>\n",
       "      <th>Feb</th>\n",
       "      <th>Mar</th>\n",
       "      <th>Apr</th>\n",
       "      <th>May</th>\n",
       "      <th>Jun</th>\n",
       "      <th>Jul</th>\n",
       "      <th>Aug</th>\n",
       "      <th>Sep</th>\n",
       "      <th>Oct</th>\n",
       "      <th>Nov</th>\n",
       "      <th>Dec</th>\n",
       "      <th>HALF1</th>\n",
       "      <th>HALF2</th>\n",
       "    </tr>\n",
       "    <tr>\n",
       "      <th>Year</th>\n",
       "      <th></th>\n",
       "      <th></th>\n",
       "      <th></th>\n",
       "      <th></th>\n",
       "      <th></th>\n",
       "      <th></th>\n",
       "      <th></th>\n",
       "      <th></th>\n",
       "      <th></th>\n",
       "      <th></th>\n",
       "      <th></th>\n",
       "      <th></th>\n",
       "      <th></th>\n",
       "      <th></th>\n",
       "    </tr>\n",
       "  </thead>\n",
       "  <tbody>\n",
       "    <tr>\n",
       "      <th>1964</th>\n",
       "      <td>30.9</td>\n",
       "      <td>30.9</td>\n",
       "      <td>30.9</td>\n",
       "      <td>30.9</td>\n",
       "      <td>30.9</td>\n",
       "      <td>31.0</td>\n",
       "      <td>31.1</td>\n",
       "      <td>31.0</td>\n",
       "      <td>31.1</td>\n",
       "      <td>31.1</td>\n",
       "      <td>31.2</td>\n",
       "      <td>31.2</td>\n",
       "      <td>NaN</td>\n",
       "      <td>NaN</td>\n",
       "    </tr>\n",
       "    <tr>\n",
       "      <th>1965</th>\n",
       "      <td>31.2</td>\n",
       "      <td>31.2</td>\n",
       "      <td>31.3</td>\n",
       "      <td>31.4</td>\n",
       "      <td>31.4</td>\n",
       "      <td>31.6</td>\n",
       "      <td>31.6</td>\n",
       "      <td>31.6</td>\n",
       "      <td>31.6</td>\n",
       "      <td>31.7</td>\n",
       "      <td>31.7</td>\n",
       "      <td>31.8</td>\n",
       "      <td>NaN</td>\n",
       "      <td>NaN</td>\n",
       "    </tr>\n",
       "    <tr>\n",
       "      <th>1966</th>\n",
       "      <td>31.8</td>\n",
       "      <td>32.0</td>\n",
       "      <td>32.1</td>\n",
       "      <td>32.3</td>\n",
       "      <td>32.3</td>\n",
       "      <td>32.4</td>\n",
       "      <td>32.5</td>\n",
       "      <td>32.7</td>\n",
       "      <td>32.7</td>\n",
       "      <td>32.9</td>\n",
       "      <td>32.9</td>\n",
       "      <td>32.9</td>\n",
       "      <td>NaN</td>\n",
       "      <td>NaN</td>\n",
       "    </tr>\n",
       "    <tr>\n",
       "      <th>1967</th>\n",
       "      <td>32.9</td>\n",
       "      <td>32.9</td>\n",
       "      <td>33.0</td>\n",
       "      <td>33.1</td>\n",
       "      <td>33.2</td>\n",
       "      <td>33.3</td>\n",
       "      <td>33.4</td>\n",
       "      <td>33.5</td>\n",
       "      <td>33.6</td>\n",
       "      <td>33.7</td>\n",
       "      <td>33.8</td>\n",
       "      <td>33.9</td>\n",
       "      <td>NaN</td>\n",
       "      <td>NaN</td>\n",
       "    </tr>\n",
       "    <tr>\n",
       "      <th>1968</th>\n",
       "      <td>34.1</td>\n",
       "      <td>34.2</td>\n",
       "      <td>34.3</td>\n",
       "      <td>34.4</td>\n",
       "      <td>34.5</td>\n",
       "      <td>34.7</td>\n",
       "      <td>34.9</td>\n",
       "      <td>35.0</td>\n",
       "      <td>35.1</td>\n",
       "      <td>35.3</td>\n",
       "      <td>35.4</td>\n",
       "      <td>35.5</td>\n",
       "      <td>NaN</td>\n",
       "      <td>NaN</td>\n",
       "    </tr>\n",
       "  </tbody>\n",
       "</table>\n",
       "</div>"
      ],
      "text/plain": [
       "       Jan   Feb   Mar   Apr   May   Jun   Jul   Aug   Sep   Oct   Nov   Dec  \\\n",
       "Year                                                                           \n",
       "1964  30.9  30.9  30.9  30.9  30.9  31.0  31.1  31.0  31.1  31.1  31.2  31.2   \n",
       "1965  31.2  31.2  31.3  31.4  31.4  31.6  31.6  31.6  31.6  31.7  31.7  31.8   \n",
       "1966  31.8  32.0  32.1  32.3  32.3  32.4  32.5  32.7  32.7  32.9  32.9  32.9   \n",
       "1967  32.9  32.9  33.0  33.1  33.2  33.3  33.4  33.5  33.6  33.7  33.8  33.9   \n",
       "1968  34.1  34.2  34.3  34.4  34.5  34.7  34.9  35.0  35.1  35.3  35.4  35.5   \n",
       "\n",
       "      HALF1  HALF2  \n",
       "Year                \n",
       "1964    NaN    NaN  \n",
       "1965    NaN    NaN  \n",
       "1966    NaN    NaN  \n",
       "1967    NaN    NaN  \n",
       "1968    NaN    NaN  "
      ]
     },
     "execution_count": 49,
     "metadata": {},
     "output_type": "execute_result"
    }
   ],
   "source": [
    "cpidat = pd.read_excel('cpi_data.xlsx', skiprows=range(9), header=1)\n",
    "cpidat = cpidat.set_index(keys='Year')\n",
    "cpidat.head()"
   ]
  }
 ],
 "metadata": {
  "kernelspec": {
   "display_name": "Python 3",
   "language": "python",
   "name": "python3"
  },
  "language_info": {
   "codemirror_mode": {
    "name": "ipython",
    "version": 3
   },
   "file_extension": ".py",
   "mimetype": "text/x-python",
   "name": "python",
   "nbconvert_exporter": "python",
   "pygments_lexer": "ipython3",
   "version": "3.5.1"
  }
 },
 "nbformat": 4,
 "nbformat_minor": 0
}
